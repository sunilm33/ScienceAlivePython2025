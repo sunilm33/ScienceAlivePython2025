{
 "cells": [
  {
   "cell_type": "markdown",
   "id": "0cc806f5",
   "metadata": {},
   "source": [
    "# Introduction to the Python Guild\n",
    "\n",
    "Things we will cover during our first training:\n",
    "\n",
    "* Comments, indentation, and `print()` function\n",
    "* Variables\n",
    "* Lists\n",
    "* Conditionals\n",
    "* if/elif/else statements\n",
    "\n",
    "## What is Python?\n",
    "\n",
    "Python is a popular programming language. It was created by Guido van Rossum, and released in 1991.\n",
    "\n",
    "It is used for:\n",
    "\n",
    "1. Web development (server-side)\n",
    "2. Software development\n",
    "3. Data analysis\n",
    "4. System scripting"
   ]
  },
  {
   "cell_type": "code",
   "execution_count": 3,
   "id": "9fbef7b2",
   "metadata": {},
   "outputs": [
    {
     "name": "stdout",
     "output_type": "stream",
     "text": [
      "Hello World\n"
     ]
    }
   ],
   "source": [
    "# To being your intitation, please print out \"Hello World\"\n",
    "print(\"Hello World\")"
   ]
  },
  {
   "cell_type": "markdown",
   "id": "571c32df",
   "metadata": {},
   "source": [
    "# Comments \n",
    "\n",
    "Comments are used to communicate with other programmers. These sections are not read by the interpreter!\n",
    "<br>\n",
    "To create a comment just type `#` and the rest of the line will be commented out."
   ]
  },
  {
   "cell_type": "code",
   "execution_count": 4,
   "id": "7b9e1802",
   "metadata": {},
   "outputs": [
    {
     "ename": "SyntaxError",
     "evalue": "invalid syntax (2066358018.py, line 2)",
     "output_type": "error",
     "traceback": [
      "  \u001b[36mCell\u001b[39m\u001b[36m \u001b[39m\u001b[32mIn[4]\u001b[39m\u001b[32m, line 2\u001b[39m\n\u001b[31m    \u001b[39m\u001b[31mI will be read by the interpreter and cause an error\u001b[39m\n      ^\n\u001b[31mSyntaxError\u001b[39m\u001b[31m:\u001b[39m invalid syntax\n"
     ]
    }
   ],
   "source": [
    "# I will not be read by the interpreter and cause no errors\n",
    "I will be read by the interpreter and cause an error"
   ]
  },
  {
   "cell_type": "markdown",
   "id": "1580da6a",
   "metadata": {},
   "source": [
    "## Variables\n",
    "Variables are our <b> bags of holding </b> for storing data values. You can hold all your data in variables in Python.\n",
    "<br>\n",
    "Here are some rules and outlines for our variables:\n",
    "\n",
    "### Creating Variables\n",
    "* Python has no command for declaring a variable.\n",
    "* A variable is created the moment you first assign a value to it.\n",
    "* Variables do not need to be declared with any particular type, and can even change type after they have been set.\n",
    "\n",
    "### Naming Variables\n",
    "A variable can have a short name (like x and y) or a more descriptive name (age, carname, total_volume).\n",
    "\n",
    "#### Rules for Python variables:\n",
    "* A variable name must start with a letter or the underscore character\n",
    "* A variable name cannot start with a number\n",
    "* A variable name can only contain alpha-numeric characters and underscores (A-z, 0-9, and _ )\n",
    "\n",
    "Remember that variable names are case-sensitive. For example, age, Age and AGE are three different variables.\n",
    "\n",
    "### Output Variables\n",
    "* Python print statement is often used to output variables.\n",
    "* You can combine text and variables."
   ]
  },
  {
   "cell_type": "code",
   "execution_count": null,
   "id": "afbc19e0",
   "metadata": {},
   "outputs": [],
   "source": [
    "# Time to do our inventory management training \n",
    "\n",
    "# First we are going to learn how to create a variable\n",
    "\n",
    "\n",
    "# Next we need to learn the rules for naming variables:\n",
    "# Legal variable names\n",
    "\n",
    "# Illegal variable names\n",
    "\n",
    "\n",
    "# Lastly, lets see how we can display our variables\n"
   ]
  },
  {
   "cell_type": "markdown",
   "id": "11fdffb5",
   "metadata": {},
   "source": [
    "# Datatypes\n",
    "In the variables we can hold many kinds of data. \n",
    "\n",
    "# Conditionals\n",
    "To learn how to talk to the village people properly first we need to learn how logic works. These conditions are used for math and words. \n",
    "\n",
    "* Equals: a == b\n",
    "* Not Equals: a != b\n",
    "* Less than: a < b\n",
    "* Less than or equal to: a <= b\n",
    "* Greater than: a > b\n",
    "* Greater than or equal to: a >= b\n",
    "\n",
    "These conditions can be used in several ways, most commonly in if statements and loops.\n"
   ]
  },
  {
   "cell_type": "code",
   "execution_count": 3,
   "id": "4b3905be",
   "metadata": {},
   "outputs": [
    {
     "name": "stdout",
     "output_type": "stream",
     "text": [
      "Hello Adventurer. I need help with clearing the rats out of my cellar.\n",
      "A. Okay,  where do you need help? \n",
      "B. No, I don't know how to do that. \n",
      "C. How much are you willing to pay me?\n"
     ]
    }
   ],
   "source": [
    "from dialogue import *\n",
    "\n",
    "main()"
   ]
  }
 ],
 "metadata": {
  "kernelspec": {
   "display_name": "Python 3",
   "language": "python",
   "name": "python3"
  },
  "language_info": {
   "codemirror_mode": {
    "name": "ipython",
    "version": 3
   },
   "file_extension": ".py",
   "mimetype": "text/x-python",
   "name": "python",
   "nbconvert_exporter": "python",
   "pygments_lexer": "ipython3",
   "version": "3.13.0"
  }
 },
 "nbformat": 4,
 "nbformat_minor": 5
}
