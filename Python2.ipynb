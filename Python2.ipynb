{
 "cells": [
  {
   "cell_type": "markdown",
   "id": "9cfa0d25",
   "metadata": {},
   "source": [
    "# Welcome to Part 2 of our Python Guild Introduction\n",
    "\n",
    "## Today we will be going over techniques so we can go to dungeon combat training\n",
    "\n",
    "Topics we will cover during this training:\n",
    "* Loops\n",
    "    * For Loops\n",
    "    * While Loops\n",
    "* Scope\n",
    "* Functions\n"
   ]
  },
  {
   "cell_type": "markdown",
   "id": "2f52675e",
   "metadata": {},
   "source": [
    "# Loops\n",
    "\n",
    "While adventuring you may want to have certain parts of your code run again and again.\n",
    "\n",
    "We can accomplish this by having loops in our code. \n",
    "<br>\n",
    "Loops allow programmers to run the same piece of code over and over again until some stopping point. "
   ]
  },
  {
   "cell_type": "markdown",
   "id": "9a4efa93",
   "metadata": {},
   "source": [
    "# While Loops\n",
    "\n",
    "* Runs until the statement is no longer <b>true</b> (it becomes <b>false</b>)\n",
    "* Can go forever if we do not have a way to make the statement false"
   ]
  },
  {
   "cell_type": "code",
   "execution_count": null,
   "id": "c3a8c21e",
   "metadata": {},
   "outputs": [],
   "source": [
    "# Use a loop to print out all the numbers 1-10 with only 1 print statement\n",
    "i = 1\n",
    "\n",
    "while i <= 10:\n",
    "    print(i)\n",
    "    i += 1"
   ]
  },
  {
   "cell_type": "code",
   "execution_count": null,
   "id": "ace99e80",
   "metadata": {},
   "outputs": [],
   "source": [
    "# Lets play with some input\n",
    "# Create a loop that prints out \"Hello, please give me a name\"\n",
    "# Have the while loop stop once the person enters in name as their input string\n",
    "input_string = \"\"\n",
    "\n",
    "while input_string != \"name\":\n",
    "    input_string = input(\"Hello, what is your name? \")"
   ]
  },
  {
   "cell_type": "markdown",
   "id": "788ae91d",
   "metadata": {},
   "source": [
    "# For Loops\n",
    "\n",
    "* Instead of stopping for some logical statement these loops end once they go over a sequence data\n",
    "* Sequence of data would be like 1,2,3,4,5,6 for nubmers or h,e,l,l,o for a string.\n",
    "* These are neatly packed into a datatype called a <b>list</b>\n",
    "\n",
    "# Lists\n",
    "* Allows us to hold a bunch of data in one place. \n",
    "* Looks like `[1,2,3,4,5]`\n",
    "* Can hold any other datatype\n",
    "    * Be careful as you are allowed to mix datatypes which usually is not what a programmer wants in a list"
   ]
  },
  {
   "cell_type": "code",
   "execution_count": null,
   "id": "2ec64c9b",
   "metadata": {},
   "outputs": [],
   "source": [
    "# Let's print out each letter of \"Hello World\" one line at a time\n",
    "output_str = \"Hello World\"\n",
    "\n",
    "for letter in output_str:\n",
    "    print(letter)"
   ]
  },
  {
   "cell_type": "code",
   "execution_count": null,
   "id": "3f188192",
   "metadata": {},
   "outputs": [],
   "source": [
    "# Create a list of numbers\n",
    "# Loop through and print them out\n",
    "number_list = [1,2,3,4]\n",
    "\n",
    "for n in number_list:\n",
    "    print(n)"
   ]
  },
  {
   "cell_type": "code",
   "execution_count": 11,
   "id": "54d17a24",
   "metadata": {},
   "outputs": [
    {
     "name": "stdout",
     "output_type": "stream",
     "text": [
      "[1, 2, 3, 4, 5, 6, 7, 8, 9, 10]\n"
     ]
    }
   ],
   "source": [
    "# Create a list of numbers\n",
    "# Add 5 to each number\n",
    "\n",
    "number_list = [1,2,3,4,5,6,7,8,9,10]\n",
    "\n",
    "for n in number_list:\n",
    "    n += 5\n",
    "\n",
    "print(number_list)"
   ]
  }
 ],
 "metadata": {
  "kernelspec": {
   "display_name": "Python 3",
   "language": "python",
   "name": "python3"
  },
  "language_info": {
   "codemirror_mode": {
    "name": "ipython",
    "version": 3
   },
   "file_extension": ".py",
   "mimetype": "text/x-python",
   "name": "python",
   "nbconvert_exporter": "python",
   "pygments_lexer": "ipython3",
   "version": "3.13.3"
  }
 },
 "nbformat": 4,
 "nbformat_minor": 5
}
