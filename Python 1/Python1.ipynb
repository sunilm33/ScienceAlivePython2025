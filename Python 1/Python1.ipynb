{
 "cells": [
  {
   "cell_type": "markdown",
   "id": "0cc806f5",
   "metadata": {},
   "source": [
    "# Introduction to the Python Guild\n",
    "\n",
    "Topics we will cover during our first training:\n",
    "\n",
    "* Comments, indentation, and `print()` function\n",
    "* Variables\n",
    "* Lists\n",
    "* Conditionals\n",
    "* if/elif/else statements\n",
    "\n",
    "## What is Python?\n",
    "\n",
    "Python is a popular programming language. It was created by Guido van Rossum, and released in 1991.\n",
    "\n",
    "It is used for:\n",
    "\n",
    "1. Web development (server-side)\n",
    "2. Software development\n",
    "3. Data analysis\n",
    "4. System scripting"
   ]
  },
  {
   "cell_type": "markdown",
   "id": "5e1678a0",
   "metadata": {},
   "source": [
    "# Our First Code!\n",
    "Now to truly prepare for being a crypt explorer is to perform the programming tradition of printing `Hello World` to the terminal."
   ]
  },
  {
   "cell_type": "code",
   "execution_count": null,
   "id": "9fbef7b2",
   "metadata": {},
   "outputs": [],
   "source": [
    "# To being your intitation, please print out \"Hello World\""
   ]
  },
  {
   "cell_type": "markdown",
   "id": "571c32df",
   "metadata": {},
   "source": [
    "# Comments \n",
    "\n",
    "Comments are used to communicate with other members of the guild without effecting the code! These sections are not read by the interpreter!\n",
    "<br>\n",
    "To create a comment just type `#` and the rest of the line will be commented out."
   ]
  },
  {
   "cell_type": "code",
   "execution_count": null,
   "id": "7b9e1802",
   "metadata": {},
   "outputs": [],
   "source": [
    "# I will not be read by the interpreter and cause no errors\n",
    "I will be read by the interpreter and cause an error"
   ]
  },
  {
   "cell_type": "markdown",
   "id": "1580da6a",
   "metadata": {},
   "source": [
    "## Variables\n",
    "Variables are our <b> bags of holding </b> for storing data values. You can hold all your data in variables in Python.\n",
    "<br>\n",
    "Here are some rules and outlines for our variables:\n",
    "\n",
    "### Creating Variables\n",
    "* Python has no command for declaring a variable.\n",
    "* A variable is created the moment you first assign a value to it.\n",
    "* Variables do not need to be declared with any particular type, and can even change type after they have been set.\n",
    "\n",
    "### Naming Variables\n",
    "A variable can have a short name (like x and y) or a more descriptive name (age, carname, total_volume).\n",
    "\n",
    "#### Rules for Python variables:\n",
    "* A variable name must start with a letter or the underscore character\n",
    "* A variable name cannot start with a number\n",
    "* A variable name can only contain alpha-numeric characters and underscores (A-z, 0-9, and _ )\n",
    "\n",
    "Remember that variable names are case-sensitive. For example, age, Age and AGE are three different variables.\n",
    "### Data in a variable\n",
    "* The main use case for a variable is to hold some kind of data\n",
    "* In python we mainly use 4 types of data\n",
    "   * Strings - These are how we store words and sentences. Anything surrounded by quotation marks \"\" or apostrophes ''\n",
    "   * Integers - Whole Numbers like 1,2,5,10\n",
    "   * Floats - Decimal numbers like 1.1, 1.5,1.6\n",
    "   * Booleans - The hardest one to understand but it is just True or False values. We need this for anything that requires logic.\n",
    "### Outputting Variables\n",
    "* Python print statement is often used to output variables.\n",
    "* You can combine text and variables."
   ]
  },
  {
   "cell_type": "code",
   "execution_count": null,
   "id": "afbc19e0",
   "metadata": {},
   "outputs": [],
   "source": [
    "# Time to do our inventory management training \n",
    "\n",
    "# First we are going to learn how to create a variable\n",
    "# Next we need to learn the rules for naming variables:\n",
    "# Legal variable names\n",
    "\n",
    "# Illegal variable names\n",
    "\n",
    "\n",
    "# Lastly, lets see how we can display our variables"
   ]
  },
  {
   "cell_type": "code",
   "execution_count": null,
   "id": "394ed9c2",
   "metadata": {},
   "outputs": [],
   "source": [
    "# Let's now invesigate some variables using type() to find out what they hold\n",
    "w = True\n",
    "x = 67\n",
    "y = 6.7\n",
    "z = \"zed\""
   ]
  },
  {
   "cell_type": "markdown",
   "id": "11fdffb5",
   "metadata": {},
   "source": [
    "## Lists\n",
    "Allows us to hold a bunch of data in one place. It is like a big bag that can hold a sequenced (0,1,2,3,...) set of items.\n",
    "* Looks like `[1,2,3,4,5]`\n",
    "* Can hold any other datatype\n",
    "    * Be careful as you are allowed to mix datatypes which usually is not what a programmer wants in a list\n",
    "\n",
    "### Accessing items in lists\n",
    "Now that we have all this data how do we actually use it?\n",
    "<br>\n",
    "Lists are numbered from 0->1->2 and so on. Think of counting things normally but start at 0 instead of 1.\n",
    "<br>\n",
    "We can use <b>indexing</b> to get something from the list. We do this by using the list name and [position_of_item].\n",
    "<br>\n",
    "Ex. `my_list[0]` gets the first item of a list."
   ]
  },
  {
   "cell_type": "code",
   "execution_count": null,
   "id": "efa93c6a",
   "metadata": {},
   "outputs": [],
   "source": [
    "# Let us try out a list by creating one with the numbers 1-5\n",
    "# After that print out all the elements using the index"
   ]
  },
  {
   "cell_type": "markdown",
   "id": "edbb90d4",
   "metadata": {},
   "source": [
    "## Input\n",
    "Right now our programs are very static. We want them to be <b> interactive </b> so that users can change the outcomes of the program. \n",
    "* To make a program interactive we must take input from a user.\n",
    "* In Python we use `input()` to gather data from a user in the form of Strings."
   ]
  },
  {
   "cell_type": "code",
   "execution_count": null,
   "id": "a6178eea",
   "metadata": {},
   "outputs": [],
   "source": [
    "# Now that you are officially apart of the guild, you need the program to know your name.\n",
    "# Let's get input so our programs can greet us. "
   ]
  },
  {
   "cell_type": "markdown",
   "id": "e31400fa",
   "metadata": {},
   "source": [
    "## Conditionals\n",
    "To learn how to talk to the village people properly first we need to learn how logic works. These conditions are used for math and words. \n",
    "\n",
    "* Equals: a == b\n",
    "* Not Equals: a != b\n",
    "* Less than: a < b\n",
    "* Less than or equal to: a <= b\n",
    "* Greater than: a > b\n",
    "* Greater than or equal to: a >= b\n",
    "\n",
    "These conditions can be used in several ways, most commonly in if statements and loops.\n"
   ]
  },
  {
   "cell_type": "code",
   "execution_count": null,
   "id": "0c393d2c",
   "metadata": {},
   "outputs": [],
   "source": [
    "# Looking at the following statements, what do you think they will equal if we were to print it out?\n",
    "true_less_than = 3 < 4\n",
    "false_less_than = 4 < 3"
   ]
  },
  {
   "cell_type": "markdown",
   "id": "74726c1b",
   "metadata": {},
   "source": [
    "## If Statements\n",
    "If statements are used to lock a certain section of code behind logic. \n",
    "* We can use a <b>conditional statment or check boolean values</b>. \n",
    "* If these conditions are met, only then will the code execute \n"
   ]
  },
  {
   "cell_type": "code",
   "execution_count": null,
   "id": "54a0e444",
   "metadata": {},
   "outputs": [],
   "source": [
    "# Let's write out an if statement that is true to test out if we can reach our print statement.\n",
    "a = 3\n",
    "b = 4\n",
    "if False:\n",
    "    print(\"Code reached\")"
   ]
  },
  {
   "cell_type": "markdown",
   "id": "675425bd",
   "metadata": {},
   "source": [
    "## Elif Statement\n",
    "* This is for when you want to have a second logic check in the same sequence as the `if`. \n",
    "* The strucure for this is always, `if` statement first and then as many `elif` statements as needed for the sequence."
   ]
  },
  {
   "cell_type": "code",
   "execution_count": null,
   "id": "a2d0649a",
   "metadata": {},
   "outputs": [],
   "source": [
    "# Now lets edit the variables so that the if statement is false and the elif statement is true\n",
    "a = 3\n",
    "b = 4\n",
    "if True:\n",
    "    print(\"a is less than b\")\n",
    "elif False: \n",
    "    print(\"b is less than a\")"
   ]
  },
  {
   "cell_type": "markdown",
   "id": "a27c070d",
   "metadata": {},
   "source": [
    "## Else Statement\n",
    "* This section of code is always attached to an `if` block for the case where no `if` or `elif` cases are true\n",
    "* The else block always execute IF the code gets to it. \n",
    "* Think of it as a net that catches any cases that we did not cover using `if` or `elif`"
   ]
  },
  {
   "cell_type": "code",
   "execution_count": null,
   "id": "48f79ff1",
   "metadata": {},
   "outputs": [],
   "source": [
    "# Finally lets edit the variables so that both if and elif are false and the else statement is reached\n",
    "a = 3\n",
    "b = 4\n",
    "if True:\n",
    "    print(\"a is less than b\")\n",
    "elif True: \n",
    "    print(\"b is less than a\")\n",
    "else:\n",
    "    print(\"a equals b\")"
   ]
  },
  {
   "cell_type": "markdown",
   "id": "accf220f",
   "metadata": {},
   "source": [
    "# Project: Dialogue Tree\n",
    "Okay Adventurer now that we have all the basics and our first training over with it is time to move onto bigger things! We will be designing a dialogue with a villager to obtain our quest down in the crypt. This is an important skill to learn as taking on quests is the main way that our guild can keep the torches on. \n",
    "<br>\n",
    "For this we will have a user...\n",
    "- Begin a dialogue with a villager\n",
    "- Choose a dialogue\n",
    "- Get a response and continue until you either get the quest or don't get it"
   ]
  },
  {
   "cell_type": "code",
   "execution_count": null,
   "id": "4b3905be",
   "metadata": {},
   "outputs": [],
   "source": [
    "# DO NOT EDIT THIS\n",
    "# THIS BLOCK IS JUST TO RUN OUR PROJECT FROM THE NOTEBOOK\n",
    "from dialogue import *\n",
    "\n",
    "main()"
   ]
  }
 ],
 "metadata": {
  "kernelspec": {
   "display_name": "Python 3",
   "language": "python",
   "name": "python3"
  },
  "language_info": {
   "codemirror_mode": {
    "name": "ipython",
    "version": 3
   },
   "file_extension": ".py",
   "mimetype": "text/x-python",
   "name": "python",
   "nbconvert_exporter": "python",
   "pygments_lexer": "ipython3",
   "version": "3.13.0"
  }
 },
 "nbformat": 4,
 "nbformat_minor": 5
}
