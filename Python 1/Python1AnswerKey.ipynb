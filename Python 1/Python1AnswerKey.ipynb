{
 "cells": [
  {
   "cell_type": "markdown",
   "id": "0cc806f5",
   "metadata": {},
   "source": [
    "# Introduction to the Python Guild\n",
    "\n",
    "Topics we will cover during our first training:\n",
    "\n",
    "* Comments, indentation, and `print()` function\n",
    "* Variables\n",
    "* Lists\n",
    "* Conditionals\n",
    "* if/elif/else statements\n",
    "\n",
    "## What is Python?\n",
    "\n",
    "Python is a popular programming language. It was created by Guido van Rossum, and released in 1991.\n",
    "\n",
    "It is used for:\n",
    "\n",
    "1. Web development (server-side)\n",
    "2. Software development\n",
    "3. Data analysis\n",
    "4. System scripting"
   ]
  },
  {
   "cell_type": "code",
   "execution_count": 1,
   "id": "9fbef7b2",
   "metadata": {},
   "outputs": [
    {
     "name": "stdout",
     "output_type": "stream",
     "text": [
      "Hello World\n"
     ]
    }
   ],
   "source": [
    "# To being your intitation, please print out \"Hello World\"\n",
    "print(\"Hello World\")"
   ]
  },
  {
   "cell_type": "markdown",
   "id": "571c32df",
   "metadata": {},
   "source": [
    "# Comments \n",
    "\n",
    "Comments are used to communicate with other programmers. These sections are not read by the interpreter!\n",
    "<br>\n",
    "To create a comment just type `#` and the rest of the line will be commented out."
   ]
  },
  {
   "cell_type": "code",
   "execution_count": 2,
   "id": "7b9e1802",
   "metadata": {},
   "outputs": [
    {
     "ename": "SyntaxError",
     "evalue": "invalid syntax (2066358018.py, line 2)",
     "output_type": "error",
     "traceback": [
      "  \u001b[36mCell\u001b[39m\u001b[36m \u001b[39m\u001b[32mIn[2]\u001b[39m\u001b[32m, line 2\u001b[39m\n\u001b[31m    \u001b[39m\u001b[31mI will be read by the interpreter and cause an error\u001b[39m\n      ^\n\u001b[31mSyntaxError\u001b[39m\u001b[31m:\u001b[39m invalid syntax\n"
     ]
    }
   ],
   "source": [
    "# I will not be read by the interpreter and cause no errors\n",
    "I will be read by the interpreter and cause an error"
   ]
  },
  {
   "cell_type": "markdown",
   "id": "1580da6a",
   "metadata": {},
   "source": [
    "## Variables\n",
    "Variables are our <b> bags of holding </b> for storing data values. You can hold all your data in variables in Python.\n",
    "<br>\n",
    "Here are some rules and outlines for our variables:\n",
    "\n",
    "### Creating Variables\n",
    "* Python has no command for declaring a variable.\n",
    "* A variable is created the moment you first assign a value to it.\n",
    "* Variables do not need to be declared with any particular type, and can even change type after they have been set.\n",
    "\n",
    "### Naming Variables\n",
    "A variable can have a short name (like x and y) or a more descriptive name (age, carname, total_volume).\n",
    "\n",
    "#### Rules for Python variables:\n",
    "* A variable name must start with a letter or the underscore character\n",
    "* A variable name cannot start with a number\n",
    "* A variable name can only contain alpha-numeric characters and underscores (A-z, 0-9, and _ )\n",
    "\n",
    "Remember that variable names are case-sensitive. For example, age, Age and AGE are three different variables.\n",
    "### Data in a variable\n",
    "* The main use case for a variable is to hold some kind of data\n",
    "* In python we mainly use 4 types of data\n",
    "   * Strings - These are how we store words and sentences. Anything surrounded by quotation marks \"\" or apostrophes ''\n",
    "   * Integers - Whole Numbers like 1,2,5,10\n",
    "   * Floats - Decimal numbers like 1.1, 1.5,1.6\n",
    "   * Booleans - The hardest one to understand but it is just True or False values. We need this for anything that requires logic.\n",
    "### Outputting Variables\n",
    "* Python print statement is often used to output variables.\n",
    "* You can combine text and variables."
   ]
  },
  {
   "cell_type": "code",
   "execution_count": 3,
   "id": "afbc19e0",
   "metadata": {},
   "outputs": [],
   "source": [
    "# Time to do our inventory management training \n",
    "\n",
    "# First we are going to learn how to create a variable\n",
    "\n",
    "\n",
    "# Next we need to learn the rules for naming variables:\n",
    "# Legal variable names\n",
    "\n",
    "# Illegal variable names\n",
    "\n",
    "\n",
    "# Lastly, lets see how we can display our variables\n"
   ]
  },
  {
   "cell_type": "markdown",
   "id": "2de3aa4f",
   "metadata": {},
   "source": []
  },
  {
   "cell_type": "code",
   "execution_count": 2,
   "id": "394ed9c2",
   "metadata": {},
   "outputs": [
    {
     "name": "stdout",
     "output_type": "stream",
     "text": [
      "<class 'int'>\n",
      "<class 'float'>\n",
      "<class 'str'>\n",
      "<class 'bool'>\n"
     ]
    }
   ],
   "source": [
    "print(type(67))\n",
    "print(type(6.7))\n",
    "print(type(\"Hello\"))\n",
    "print(type(True))"
   ]
  },
  {
   "cell_type": "markdown",
   "id": "11fdffb5",
   "metadata": {},
   "source": [
    "## Lists\n",
    "* Allows us to hold a bunch of data in one place. \n",
    "* Looks like `[1,2,3,4,5]`\n",
    "* Can hold any other datatype\n",
    "    * Be careful as you are allowed to mix datatypes which usually is not what a programmer wants in a list\n",
    "\n",
    "### Accessing items in lists\n",
    "Now that we have all this data how do we actually use it?\n",
    "<br>\n",
    "Lists are numbered from 0->1->2 and so on. Think of counting things normally but start at 0 instead of 1.\n",
    "<br>\n",
    "We can use <b>indexing</b> to get something from the list. We do this by using the list name and [position_of_item].\n",
    "<br>\n",
    "Ex. `my_list[0]` gets the first item of a list."
   ]
  },
  {
   "cell_type": "code",
   "execution_count": null,
   "id": "efa93c6a",
   "metadata": {},
   "outputs": [],
   "source": [
    "my_list = [1,2,3,4,5]\n",
    "print(my_list)\n",
    "print(my_list[0])"
   ]
  },
  {
   "cell_type": "markdown",
   "id": "e31400fa",
   "metadata": {},
   "source": [
    "## Conditionals\n",
    "To learn how to talk to the village people properly first we need to learn how logic works. These conditions are used for math and words. \n",
    "\n",
    "* Equals: a == b\n",
    "* Not Equals: a != b\n",
    "* Less than: a < b\n",
    "* Less than or equal to: a <= b\n",
    "* Greater than: a > b\n",
    "* Greater than or equal to: a >= b\n",
    "\n",
    "These conditions can be used in several ways, most commonly in if statements and loops.\n"
   ]
  },
  {
   "cell_type": "code",
   "execution_count": 4,
   "id": "0c393d2c",
   "metadata": {},
   "outputs": [
    {
     "name": "stdout",
     "output_type": "stream",
     "text": [
      "True\n",
      "False\n"
     ]
    }
   ],
   "source": [
    "true_less_than = 3 < 4\n",
    "false_less_than = 4 < 3 \n",
    "print(true_less_than)\n",
    "print(false_less_than)"
   ]
  },
  {
   "cell_type": "markdown",
   "id": "74726c1b",
   "metadata": {},
   "source": [
    "## If Statements\n",
    "If statements are used to lock a certain section of code behind logic. \n",
    "* We can use a <b>conditional statment or check boolean values</b>. \n",
    "* If these conditions are met, only then will the code execute \n"
   ]
  },
  {
   "cell_type": "code",
   "execution_count": 5,
   "id": "54a0e444",
   "metadata": {},
   "outputs": [],
   "source": [
    "if 4 < 3:\n",
    "    print(\"Code reached\")"
   ]
  },
  {
   "cell_type": "markdown",
   "id": "675425bd",
   "metadata": {},
   "source": [
    "## Elif Statement\n",
    "* This is for when you want to have a second logic check in the same sequence as the `if`. \n",
    "* The strucure for this is always, `if` statement first and then as many `elif` statements as needed for the sequence."
   ]
  },
  {
   "cell_type": "code",
   "execution_count": 9,
   "id": "a2d0649a",
   "metadata": {},
   "outputs": [
    {
     "name": "stdout",
     "output_type": "stream",
     "text": [
      "3 is less than 4\n"
     ]
    }
   ],
   "source": [
    "if 4 < 3:\n",
    "    print(\"4 is less than 3\")\n",
    "elif 3 < 4: \n",
    "    print(\"3 is less than 4\")"
   ]
  },
  {
   "cell_type": "markdown",
   "id": "a27c070d",
   "metadata": {},
   "source": [
    "## Else Statement\n",
    "* This section of code is always attached to an `if` block for the case where no `if` or `elif` cases are true\n",
    "* The else block always execute IF the code gets to it. \n",
    "* Think of it as a net that catches any cases that we did not cover using `if` or `elif`"
   ]
  },
  {
   "cell_type": "code",
   "execution_count": 7,
   "id": "48f79ff1",
   "metadata": {},
   "outputs": [
    {
     "name": "stdout",
     "output_type": "stream",
     "text": [
      "x is equal to 4\n"
     ]
    }
   ],
   "source": [
    "x = 4\n",
    "if x < 4:\n",
    "    print(\"x is less than 4\")\n",
    "elif x > 4: \n",
    "    print(\"x is greater than 4\")\n",
    "else:\n",
    "    print(\"x is equal to 4\")"
   ]
  },
  {
   "cell_type": "code",
   "execution_count": 4,
   "id": "4b3905be",
   "metadata": {},
   "outputs": [
    {
     "name": "stdout",
     "output_type": "stream",
     "text": [
      "Hello Adventurer. I need help with clearing the rats out of my cellar.\n",
      "A. Okay,  where do you need help?\n",
      "B. No, I don't know how to do that.\n",
      "C. How much are you willing to pay me?\n",
      "In. My. Cellar.\n",
      "I can pay you 2 silver to do it.\n",
      "A. That works for me.\n",
      "B. No can do, I need at least 5 silver.\n",
      "C. Nope, 10 silver or I walk!\n",
      "Oh well I can use my kids savings and get that money. I really need these rats gone.\n",
      "You are helping the townsperson! You got paid 5 silver coins!\n",
      "Hello Adventurer. I need help with clearing the rats out of my cellar.\n",
      "A. Okay,  where do you need help?\n",
      "B. No, I don't know how to do that.\n",
      "C. How much are you willing to pay me?\n",
      "In. My. Cellar.\n",
      "I can pay you 2 silver to do it.\n",
      "A. That works for me.\n",
      "B. No can do, I need at least 5 silver.\n",
      "C. Nope, 10 silver or I walk!\n",
      "Thank you, now please go clear them out!\n",
      "You are helping the townsperson! You got paid 2 silver coins!\n"
     ]
    }
   ],
   "source": [
    "from dialogue import *\n",
    "\n",
    "main()"
   ]
  }
 ],
 "metadata": {
  "kernelspec": {
   "display_name": "Python 3",
   "language": "python",
   "name": "python3"
  },
  "language_info": {
   "codemirror_mode": {
    "name": "ipython",
    "version": 3
   },
   "file_extension": ".py",
   "mimetype": "text/x-python",
   "name": "python",
   "nbconvert_exporter": "python",
   "pygments_lexer": "ipython3",
   "version": "3.13.3"
  }
 },
 "nbformat": 4,
 "nbformat_minor": 5
}
