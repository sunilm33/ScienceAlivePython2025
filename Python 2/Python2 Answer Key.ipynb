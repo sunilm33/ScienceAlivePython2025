{
 "cells": [
  {
   "cell_type": "markdown",
   "id": "9cfa0d25",
   "metadata": {},
   "source": [
    "# Welcome to Part 2 of our Python Guild Introduction\n",
    "\n",
    "## Today we will be going over techniques so we can go to dungeon combat training\n",
    "\n",
    "Topics we will cover during this training:\n",
    "* Loops\n",
    "    * For Loops\n",
    "    * While Loops\n",
    "* Scope\n",
    "* Functions\n"
   ]
  },
  {
   "cell_type": "markdown",
   "id": "2f52675e",
   "metadata": {},
   "source": [
    "# Loops\n",
    "\n",
    "While adventuring you may want to have certain parts of your code run again and again.\n",
    "\n",
    "We can accomplish this by having loops in our code. \n",
    "<br>\n",
    "Loops allow programmers to run the same piece of code over and over again until some stopping point. "
   ]
  },
  {
   "cell_type": "markdown",
   "id": "9a4efa93",
   "metadata": {},
   "source": [
    "# While Loops\n",
    "\n",
    "* Runs until the statement is no longer <b>true</b> (it becomes <b>false</b>)\n",
    "* Can go forever if we do not have a way to make the statement false\n",
    "```\n",
    "while <condition>:\n",
    "    <anything after this will execute over and over again until the condition is false>\n",
    "```"
   ]
  },
  {
   "cell_type": "code",
   "execution_count": null,
   "id": "c3a8c21e",
   "metadata": {},
   "outputs": [],
   "source": [
    "# Use a loop to print out all the numbers 1-10 with only 1 print statement\n",
    "i = 1\n",
    "\n",
    "while i <= 10:\n",
    "    print(i)\n",
    "    i += 1"
   ]
  },
  {
   "cell_type": "code",
   "execution_count": null,
   "id": "ace99e80",
   "metadata": {},
   "outputs": [],
   "source": [
    "# Lets play with some input\n",
    "# Create a loop that prints out \"Hello, please give me a name\"\n",
    "# Have the while loop stop once the person enters in name as their input string\n",
    "input_string = \"\"\n",
    "\n",
    "while input_string != \"name\":\n",
    "    input_string = input(\"Hello, what is your name? \")"
   ]
  },
  {
   "cell_type": "markdown",
   "id": "6f294c0a",
   "metadata": {},
   "source": [
    "## Break\n",
    "\n",
    "- Sometimes we want to end a loop before a condition. \n",
    "- `break` is used to end a loop right then and there\n",
    "- This is not the best coding practice but useful for getting out of a loop immediately or when a loop uses While True (can never be a false condition)"
   ]
  },
  {
   "cell_type": "code",
   "execution_count": null,
   "id": "7d5c5e7a",
   "metadata": {},
   "outputs": [],
   "source": [
    "# Loop printing out all multiples of 3, break when the multiple is greater than 100\n",
    "i = 0\n",
    "while True:\n",
    "    print(i)\n",
    "    i += 1 \n",
    "    if i > 100:\n",
    "        break"
   ]
  },
  {
   "cell_type": "markdown",
   "id": "788ae91d",
   "metadata": {},
   "source": [
    "# For Loops\n",
    "Sometimes while creating a loop we can traverese some seqence in order. Think of the data in a line and we go one by one through it. \n",
    "<br>\n",
    "A <b>for</b> loop allows us to creating definite start and end conditions while creating the loop.\n",
    "* Instead of stopping for some logical statement these loops end once they go over a sequence data\n",
    "* Sequence of data would be like 1,2,3,4,5,6 for nubmers or h,e,l,l,o for a string.\n",
    "* These are neatly packed into a datatype called a <b>list</b>\n",
    "\n",
    "```\n",
    "for <item> in <list, range or string>:\n",
    "    <anything after this will execute over and over again until the condition is false>\n",
    "```"
   ]
  },
  {
   "cell_type": "code",
   "execution_count": null,
   "id": "2ec64c9b",
   "metadata": {},
   "outputs": [],
   "source": [
    "# Let's print out each letter of \"Hello World\" one line at a time\n",
    "output_str = \"Hello World\"\n",
    "\n",
    "for letter in output_str:\n",
    "    print(letter)"
   ]
  },
  {
   "cell_type": "code",
   "execution_count": null,
   "id": "3f188192",
   "metadata": {},
   "outputs": [],
   "source": [
    "# Create a list of numbers\n",
    "# Loop through and print them out\n",
    "number_list = [1,2,3,4]\n",
    "\n",
    "for n in number_list:\n",
    "    print(n)"
   ]
  },
  {
   "cell_type": "code",
   "execution_count": null,
   "id": "54d17a24",
   "metadata": {},
   "outputs": [],
   "source": [
    "# Create a list of numbers\n",
    "# Add together every number in the list\n",
    "\n",
    "number_list = [1,2,3,4,5,6,7,8,9,10]\n",
    "sum = 0 \n",
    "for n in number_list:\n",
    "    sum = sum + n\n",
    "\n",
    "print(sum)"
   ]
  },
  {
   "cell_type": "markdown",
   "id": "5066e03c",
   "metadata": {},
   "source": [
    "# Functions \n",
    "Currently when coding all our code runs in one big area. However, as members of the guild we would like our code to be more organized for readability, reliability, and usability. \n",
    "<br>\n",
    "* We can accomplish this by creating functions which allow us to write a chunk of code that can be reused as many times as needed.\n",
    "* These functions can be written outside of the main code and will only be used when called upon. They are like the spells of our adventuring pack, requiring the correct call for it and sometimes extra data to have them work.\n",
    "\n",
    "### Creating a function\n",
    "```\n",
    "def <function name>(<arguments>):\n",
    "    <actual function usage>\n",
    "    <optional: return data>\n",
    "```\n",
    "### Using a function\n",
    "```\n",
    "<function name>(<data to pass in>)\n",
    "```"
   ]
  },
  {
   "cell_type": "code",
   "execution_count": null,
   "id": "e350c3bc",
   "metadata": {},
   "outputs": [],
   "source": [
    "# For our first function, let's make a function to print Hello World!\n",
    "def printHelloWorld():\n",
    "    print(\"Hello World!\")\n",
    "\n",
    "printHelloWorld()"
   ]
  },
  {
   "cell_type": "markdown",
   "id": "42fdd948",
   "metadata": {},
   "source": [
    "## Arguments\n",
    "* Allow us to pass in data to a function\n",
    "* Needed as most times we cannot access data from other functions or loops in other functions"
   ]
  },
  {
   "cell_type": "code",
   "execution_count": null,
   "id": "1d314ede",
   "metadata": {},
   "outputs": [],
   "source": [
    "# Now let's try adding some arguments to the function.\n",
    "def printHelloName(name):\n",
    "    print(\"Hello\", name)\n",
    "\n",
    "printHelloName(\"Sunil\")"
   ]
  },
  {
   "cell_type": "markdown",
   "id": "5cec33ac",
   "metadata": {},
   "source": [
    "## Return \n",
    "* Allows a function to give back some sort of data\n",
    "* Useful for when we want to transform or create data in a function"
   ]
  },
  {
   "cell_type": "code",
   "execution_count": null,
   "id": "cad8db44",
   "metadata": {},
   "outputs": [],
   "source": [
    "# Let's create a function to multiply 2 numbers and return it as a string\n",
    "\n",
    "def multiplyString(string1, string2):\n",
    "    multiply = int(string1) * int(string2)\n",
    "    return str(multiply)\n",
    "\n",
    "output_str = multiplyString(\"3\", \"5\")\n",
    "print(output_str)\n",
    "output_str = multiplyString(\"5\", \"15\")\n",
    "print(output_str)"
   ]
  },
  {
   "cell_type": "code",
   "execution_count": null,
   "id": "44a18e5e",
   "metadata": {},
   "outputs": [],
   "source": [
    "# This is my current code to get new items for my list. I want to add 4 items to this list. \n",
    "# This can be improved using the last 2 concepts we learned.\n",
    "item_list = []\n",
    "item1 = input(\"What is the next item to add? \")\n",
    "item_list.append(item1)\n",
    "item2 = input(\"What is the next item to add? \")\n",
    "item_list.append(item2)\n",
    "item3 = input(\"What is the next item to add? \")\n",
    "item_list.append(item3)\n",
    "item4 = input(\"What is the next item to add? \")\n",
    "item_list.append(item4)"
   ]
  },
  {
   "cell_type": "code",
   "execution_count": null,
   "id": "fc99df18",
   "metadata": {},
   "outputs": [],
   "source": [
    "# First improve it using a function!\n",
    "def add_item(item_list):\n",
    "    item = input(\"What is the next item to add? \")\n",
    "    item_list.append(item)\n",
    "    return item_list\n",
    "\n",
    "my_item_list = []\n",
    "my_item_list = add_item(my_item_list)\n",
    "my_item_list = add_item(my_item_list)\n",
    "my_item_list = add_item(my_item_list)\n",
    "my_item_list = add_item(my_item_list)\n",
    "print(my_item_list)"
   ]
  },
  {
   "cell_type": "code",
   "execution_count": null,
   "id": "8f5c8c75",
   "metadata": {},
   "outputs": [],
   "source": [
    "# Now lets create a loop that can add as many items as the user wants!\n",
    "def add_item(item_list):\n",
    "    item = input(\"What is the next item to add? \")\n",
    "    item_list.append(item)\n",
    "    return item_list\n",
    "\n",
    "item_quantity = int(input(\"How many items do you want in your pack? \"))\n",
    "my_item_list = []\n",
    "for i in range(item_quantity):\n",
    "    my_item_list = add_item(my_item_list)\n",
    "\n",
    "print(*my_item_list, sep=\", \")"
   ]
  },
  {
   "cell_type": "markdown",
   "id": "e1e309bc",
   "metadata": {},
   "source": [
    "# Project: Combat Game\n",
    "Now that we have all our basic skills acquired, it's time to enter the <b>Crypts!!!!!!!!!</b>. In the crypt you must fight enemies and get gold for each enemy you defeat. \n",
    "<br>\n",
    "Here we will create a general gameplay loop. In here players will choose between attacking or healing on their turn. After their turn the opponent will take a chance to attack them back. This will go until someone loses."
   ]
  }
 ],
 "metadata": {
  "kernelspec": {
   "display_name": "Python 3",
   "language": "python",
   "name": "python3"
  },
  "language_info": {
   "codemirror_mode": {
    "name": "ipython",
    "version": 3
   },
   "file_extension": ".py",
   "mimetype": "text/x-python",
   "name": "python",
   "nbconvert_exporter": "python",
   "pygments_lexer": "ipython3",
   "version": "3.13.0"
  }
 },
 "nbformat": 4,
 "nbformat_minor": 5
}
